{
 "cells": [
  {
   "cell_type": "markdown",
   "id": "e77abf56",
   "metadata": {},
   "source": [
    "# How do the numbers of victims of terrorism in different continents compare?\n",
    "\n",
    "Terrorism is a global issue that affects people from different parts of the world. In this analysis, we aim to compare the numbers of victims of terrorism in different continents. By exploring and visualizing the data, we can gain insights into the patterns of terrorism activities and the severity of their impacts on different regions. Understanding these patterns can help policymakers and stakeholders develop effective strategies to combat terrorism and mitigate its consequences."
   ]
  },
  {
   "cell_type": "code",
   "execution_count": 1,
   "id": "04d51610",
   "metadata": {},
   "outputs": [],
   "source": [
    "import pandas as pd\n",
    "import seaborn as sns\n",
    "import matplotlib.pyplot as plt\n",
    "import numpy as np\n",
    "import altair as alt\n",
    "from bokeh.io import show\n",
    "from bokeh.palettes import OrRd\n",
    "from bokeh.plotting import figure\n",
    "import ipywidgets as widgets\n",
    "from IPython.display import display\n",
    "from mpl_toolkits.axes_grid1 import make_axes_locatable\n",
    "import geopandas as gpd"
   ]
  },
  {
   "cell_type": "markdown",
   "id": "54ab3e8f",
   "metadata": {},
   "source": [
    "## Table of Contents\n",
    "Table of Contents for all the visuals.\n",
    "\n",
    "* [Introduction](#Introduction)\n",
    "    * [some general info](#section_1_1)\n",
    "        * [country's](#sub_section_1_1_1)\n",
    "* [2 How many terrorist attacks have been reported in each continent and over what time period did they occur?](#chapter2)\n",
    "    * [2.1 Number of terrorist attacks by continent per year](#section_2_1)\n",
    "    * [2.2 Number of terrorist attacks by continent per 5 year's](#section_2_2)\n",
    "    * [2.3 Terrorist Attacks by Region and Target Type](#section_2_3)\n",
    "    * [2.4 Terrorist Attacks in every region by Target Type](#section_2_4)\n",
    "    * [2.5 Terrorist Attacks by Region and Target Type](#section_2_5)\n",
    "    * [2.6 Number of Terrorist Attacks by Target Type and Month](#section_2_6)\n",
    "    * [2.7 Conclusion](#section_2_7)\n",
    "* [3 How do the numbers of fatalities from terrorism compare in different continents?](#chapter3)\n",
    "    * [3.1 Fatalities by continent](#section_3_1)\n",
    "    * [3.2 Total fatalities by continent](#section_3_2)\n",
    "    * [3.3 Total number of fatalities from terrorism by country](#section_3_3)\n",
    "    * [3.4 Conclusion](#section_3_4)\n",
    "* [4 Which countries in each continent are most affected by terrorism and what types of attacks are most common there?](#chapter4)\n",
    "    * [4.1 Top 10 countries with the highest number of terrorist attacks, grouped by continent](#section_4_1)\n",
    "    * [4.2 Number of casualties](#section_4_2)\n",
    "    * [4.3 Trend in terrorist attacks by country and year](#section_4_3)\n",
    "    * [4.4 Conclusion](#section_4_4)\n",
    "* [5 Are there patterns in the nature of terrorist attacks that explain differences between continents?](#chapter5)\n",
    "    * [5.1 Number of attacks by attack type and continent](#section_5_1)\n",
    "    * [5.2 Number of people wounded and killed by attack type](#section_5_2) \n",
    "    * [5.3 Conclusion](#section_5_3) \n",
    "* [6 What measures have countries on different continents taken to combat terrorism and have these measures been effective?](#chapter6)\n",
    "    * [6.1 Top 5 Attack Types per region](#section_6_1)\n",
    "    * [6.2 Number of Anti-Terrorism Measures Implemented by Each Country in every region](#section_6_2)\n",
    "    * [6.3 Conclusion](#section_6_3)\n",
    "\n"
   ]
  },
  {
   "cell_type": "markdown",
   "id": "135480a5",
   "metadata": {},
   "source": [
    "## Introduction <a class=\"anchor\" id=\"Introduction\"></a>\n",
    "\n",
    "Before we can use the data, we first need to understand what we're working with. In this section, we will explore the Global Terrorism Database, a publicly available dataset that provides detailed information on terrorist attacks around the world from 1970 through 2017. By examining the dataset's format and structure, we will get a sense of how the data is organized and what types of information it contains. We will then use Python and various data analysis libraries to explore the dataset and extract meaningful information from it.\n",
    "\n",
    "Our analysis will involve using descriptive statistics, data visualization, and other analytical tools to gain insights into the trends, patterns, and characteristics of terrorist attacks over time and across different regions and countries. By the end of this section, we hope to have a better understanding of the dataset and be able to answer some interesting questions about global terrorism.\n"
   ]
  },
  {
   "cell_type": "code",
   "execution_count": 2,
   "id": "3328b484",
   "metadata": {},
   "outputs": [],
   "source": [
    "df = pd.read_csv(\"globalterrorismdb_0718dist.csv\", encoding=\"ISO-8859-1\")\n",
    "df.head()"
   ]
  },
  {
   "cell_type": "markdown",
   "id": "79527d52",
   "metadata": {},
   "source": [
    "Print the dataset format"
   ]
  },
  {
   "cell_type": "code",
   "execution_count": 3,
   "id": "6d586d5e",
   "metadata": {},
   "outputs": [],
   "source": [
    "print(\"The format of the dataset is:\", df.shape)"
   ]
  },
  {
   "cell_type": "markdown",
   "id": "6de9f4b1",
   "metadata": {},
   "source": [
    "Print some statistics about the data"
   ]
  },
  {
   "cell_type": "code",
   "execution_count": 4,
   "id": "9aa54fbf",
   "metadata": {},
   "outputs": [],
   "source": [
    "print(\"Some stats for colums with number values:\")\n",
    "print(df.describe())"
   ]
  },
  {
   "cell_type": "markdown",
   "id": "a5ee7cf6",
   "metadata": {},
   "source": [
    "Print the count of all the country's that occur in the dataset"
   ]
  },
  {
   "cell_type": "code",
   "execution_count": 5,
   "id": "33439002",
   "metadata": {
    "scrolled": true
   },
   "outputs": [],
   "source": [
    "print(\"how much is each country in this data:\")\n",
    "print(df['country_txt'].value_counts())"
   ]
  },
  {
   "cell_type": "markdown",
   "id": "2ec427bd",
   "metadata": {},
   "source": [
    "First plot that shows terrorist attacks per year"
   ]
  },
  {
   "cell_type": "code",
   "execution_count": 6,
   "id": "ddea1979",
   "metadata": {},
   "outputs": [],
   "source": [
    "plt.figure(figsize=(12,6))\n",
    "sns.histplot(x='iyear', data=df, kde=True, bins=30)\n",
    "plt.title(\"terrorist attacks per year\")\n",
    "plt.xlabel(\"Year\")\n",
    "plt.ylabel(\"Count of attacks\")\n",
    "plt.show()"
   ]
  },
  {
   "cell_type": "markdown",
   "id": "d802feef",
   "metadata": {},
   "source": [
    "### Some general plots to get a better understandig <a class=\"anchor\" id=\"section_1_1\"></a>\n",
    "\n",
    "a few plots to see what data i have."
   ]
  },
  {
   "cell_type": "code",
   "execution_count": 7,
   "id": "9a749ce6",
   "metadata": {},
   "outputs": [],
   "source": [
    "df[\"attacktype1_txt\"].value_counts()"
   ]
  },
  {
   "cell_type": "markdown",
   "id": "c536b1b3",
   "metadata": {},
   "source": [
    "occurrence of every attack type"
   ]
  },
  {
   "cell_type": "code",
   "execution_count": 8,
   "id": "56dcbbbb",
   "metadata": {},
   "outputs": [],
   "source": [
    "sns.countplot(x=df[\"attacktype1_txt\"])\n",
    "plt.xticks(rotation=90)"
   ]
  },
  {
   "cell_type": "markdown",
   "id": "21af94d8",
   "metadata": {},
   "source": [
    "Attack type with kill count"
   ]
  },
  {
   "cell_type": "code",
   "execution_count": 9,
   "id": "8dee4dae",
   "metadata": {},
   "outputs": [],
   "source": [
    "attack_kills = df.groupby([\"attacktype1_txt\"])[\"nkill\"].mean().reset_index()\n",
    "attack_kills.sort_values([\"nkill\"], ascending=False)"
   ]
  },
  {
   "cell_type": "markdown",
   "id": "9a054298",
   "metadata": {},
   "source": [
    "#### country's <a class=\"anchor\" id=\"sub_section_1_1_1\"></a>\n",
    "I live in the Netherlands so let's see how manny attack there where in the Netherlands."
   ]
  },
  {
   "cell_type": "code",
   "execution_count": 10,
   "id": "8da2a223",
   "metadata": {},
   "outputs": [],
   "source": [
    "print(\"There where\",(df[\"country_txt\"] == \"Netherlands\").sum(), \"attacks in the Netherlands\")"
   ]
  },
  {
   "cell_type": "markdown",
   "id": "f2bbd42e",
   "metadata": {},
   "source": [
    "print a table with all the attacks in the Netherlands"
   ]
  },
  {
   "cell_type": "code",
   "execution_count": 11,
   "id": "82693887",
   "metadata": {},
   "outputs": [],
   "source": [
    "NL_df = df[df[\"country_txt\"] == \"Netherlands\"]\n",
    "NL_df.sort_values([\"nkill\"], ascending=False, inplace=True)\n",
    "NL_df = NL_df[[\"target1\", \"gname\", \"summary\", \"nkill\"]]\n",
    "NL_df.head(10)"
   ]
  },
  {
   "cell_type": "markdown",
   "id": "cc7e143f",
   "metadata": {},
   "source": [
    "Now for some other bigger country's"
   ]
  },
  {
   "cell_type": "code",
   "execution_count": 12,
   "id": "f59f4237",
   "metadata": {},
   "outputs": [],
   "source": [
    "print(\"There where\",(df[\"country_txt\"] == \"United States\").sum(), \"attacks in the United States\")\n",
    "print(\"There where\",(df[\"country_txt\"] == \"Russia\").sum(), \"attacks in Russia\")\n",
    "print(\"There where\",(df[\"country_txt\"] == \"Syria\").sum(), \"attacks in Syria\")\n",
    "print(\"There where\",(df[\"country_txt\"] == \"Iraq\").sum(), \"attacks in Iraq\")\n",
    "print(\"There where\",(df[\"country_txt\"] == \"Pakistan\").sum(), \"attacks in Pakistan\")\n",
    "print(\"There where\",(df[\"country_txt\"] == \"Afghanistan\").sum(), \"attacks in Afghanistan\")\n",
    "print(\"There where\",(df[\"country_txt\"] == \"China\").sum(), \"attacks in China\")"
   ]
  },
  {
   "cell_type": "markdown",
   "id": "bafdd04d",
   "metadata": {},
   "source": [
    "the country's from above in ascending order"
   ]
  },
  {
   "cell_type": "code",
   "execution_count": 13,
   "id": "40e3df8e",
   "metadata": {},
   "outputs": [],
   "source": [
    "count_country = {\n",
    "    \"United States\": (df[\"country_txt\"] == \"United States\").sum(),\n",
    "    \"Russia\": (df[\"country_txt\"] == \"Russia\").sum(),\n",
    "    \"Syria\": (df[\"country_txt\"] == \"Syria\").sum(),\n",
    "    \"Iraq\": (df[\"country_txt\"] == \"Iraq\").sum(),\n",
    "    \"Pakistan\": (df[\"country_txt\"] == \"Pakistan\").sum(),\n",
    "    \"Afghanistan\": (df[\"country_txt\"] == \"Afghanistan\").sum(),\n",
    "    \"China\": (df[\"country_txt\"] == \"China\").sum()\n",
    "}\n",
    "country_counts_df = pd.DataFrame.from_dict(count_country, orient=\"index\", columns=[\"Count of attacks\"])\n",
    "country_counts_df = country_counts_df.sort_values(by=\"Count of attacks\", ascending=False)\n",
    "print(country_counts_df)"
   ]
  },
  {
   "cell_type": "markdown",
   "id": "379683ab",
   "metadata": {},
   "source": [
    "a heatmap"
   ]
  },
  {
   "cell_type": "code",
   "execution_count": 14,
   "id": "74812908",
   "metadata": {
    "jupyter": {
     "outputs_hidden": true
    },
    "tags": []
   },
   "outputs": [],
   "source": [
    "attacks_by_country = df.pivot_table(index='country_txt', columns='iyear', values='eventid', aggfunc='count', fill_value=0)\n",
    "\n",
    "plt.figure(figsize=(12,8))\n",
    "sns.heatmap(attacks_by_country, cmap='YlOrRd', linewidths=0.1)\n",
    "plt.title('Number of terrorist attacks by country and year')\n",
    "plt.xlabel('Year')\n",
    "plt.ylabel('Country')\n",
    "plt.show()"
   ]
  },
  {
   "cell_type": "markdown",
   "id": "48f35c64",
   "metadata": {},
   "source": [
    "top 10 country's with the most attacks"
   ]
  },
  {
   "cell_type": "code",
   "execution_count": 15,
   "id": "a8d22116",
   "metadata": {},
   "outputs": [],
   "source": [
    "attacks_by_country = df.groupby('country_txt')['eventid'].count()\n",
    "top_10_countries = attacks_by_country.sort_values(ascending=False)[:10]\n",
    "top_10_countries_table = pd.DataFrame({'Country': top_10_countries.index, 'Number of attacks': top_10_countries.values})\n",
    "print(top_10_countries_table)"
   ]
  },
  {
   "cell_type": "markdown",
   "id": "5a69d481",
   "metadata": {},
   "source": [
    "deaths against injuries"
   ]
  },
  {
   "cell_type": "code",
   "execution_count": 16,
   "id": "0b223cfd",
   "metadata": {
    "jupyter": {
     "outputs_hidden": true
    },
    "tags": []
   },
   "outputs": [],
   "source": [
    "df = df[(df['nkill']>0) & (df['nwound']>0)]\n",
    "plt.figure(figsize=(10,6))\n",
    "plt.scatter(df['nkill'], df['nwound'], alpha=0.5)\n",
    "plt.xlabel('Number of deaths')\n",
    "plt.ylabel('Number of injuries')\n",
    "plt.title('Number of deaths vs. number of injuries')\n",
    "plt.show()"
   ]
  },
  {
   "cell_type": "markdown",
   "id": "0033a3d5",
   "metadata": {},
   "source": [
    "## 2 How many terrorist attacks have been reported in each continent and over what time period did they occur? <a class=\"anchor\" id=\"chapter2\"></a>\n",
    "\n",
    "Terrorism is a global issue that has affected every continent in the world. Understanding the frequency and distribution of terrorist attacks across different continents and time periods is essential to gaining insight into this complex phenomenon. In this analysis, we aim to explore how many terrorist attacks have been reported in each continent and over what time period they have occurred. By examining the patterns of terrorist attacks across continents, we can identify hotspots of terrorist activity and inform policymakers on strategies to combat this global threat."
   ]
  },
  {
   "cell_type": "code",
   "execution_count": 17,
   "id": "7225820f",
   "metadata": {},
   "outputs": [],
   "source": [
    "count = df.groupby(['country_txt'])['country_txt'].count()\n",
    "count"
   ]
  },
  {
   "cell_type": "markdown",
   "id": "559049eb",
   "metadata": {},
   "source": [
    "### 2.1 Number of terrorist attacks by continent per year<a class=\"anchor\" id=\"section_2_1\"></a>\n",
    "\n",
    "The stacked bar chart shows the number of terrorist attacks by continent for each year from 1970 to 2017. The chart is divided into sections for each continent, and each section is further divided into smaller sections representing the number of attacks for each year. The chart shows that the highest number of terrorist attacks were reported in the Middle East & North Africa region, followed by South Asia, and South America. The chart also shows that the number of attacks has increased over time in most regions, with a sharp increase in the number of attacks reported in the Middle East & North Africa region after 2010."
   ]
  },
  {
   "cell_type": "code",
   "execution_count": 18,
   "id": "5a8889a0",
   "metadata": {
    "jupyter": {
     "outputs_hidden": true
    },
    "tags": []
   },
   "outputs": [],
   "source": [
    "grouped = df.groupby(['iyear', 'region_txt']).size().reset_index(name='count')\n",
    "\n",
    "values = grouped.pivot(index='iyear', columns='region_txt', values='count').fillna(0)\n",
    "\n",
    "ax = values.plot(kind='bar', stacked=True, figsize=(10, 6))\n",
    "\n",
    "ax.set_title('Number of terrorist attacks by continent per year')\n",
    "ax.set_xlabel('Year')\n",
    "ax.set_ylabel('Count of attacks')\n",
    "\n",
    "plt.show()"
   ]
  },
  {
   "cell_type": "markdown",
   "id": "732cbd73",
   "metadata": {},
   "source": [
    "I recently discovered the `.pivot` method in pandas, which is a useful tool for reshaping dataframes. This method allows us to convert values in one column into columns of a new dataframe, and transpose the data. This creates a new table where each row represents a unique value in the index, and each column represents a unique value in the specified columns. The `.pivot` method is useful for creating summary tables and for transforming data for easier analysis and visualization."
   ]
  },
  {
   "cell_type": "markdown",
   "id": "636acf81",
   "metadata": {},
   "source": [
    "### 2.2 Number of terrorist attacks by continent per 5 year's<a class=\"anchor\" id=\"section_2_2\"></a>\n",
    "\n",
    "This heatmap shows the number of terrorist attacks by continent, aggregated over 5-year intervals. Each row represents a different continent, and each column represents a 5-year period. The color of each cell represents the number of terrorist attacks that occurred in the corresponding continent and 5-year period. The darker the color, the higher the number of attacks. The numbers inside each cell show the exact number of attacks that occurred in that continent and 5-year period.\n",
    "\n",
    "From the heatmap, we can see that the Middle East & North Africa had the highest number of terrorist attacks throughout the entire period from 1970 to 2017, with the highest number occurring in the 5-year period between 2010 and 2015. South Asia had the second-highest number of attacks, with the highest number occurring in the 5-year period between 2010 and 2015. North America and Western Europe had relatively few attacks compared to other regions"
   ]
  },
  {
   "cell_type": "code",
   "execution_count": 19,
   "id": "f81f327e",
   "metadata": {
    "jupyter": {
     "outputs_hidden": true
    },
    "tags": []
   },
   "outputs": [],
   "source": [
    "df['year_attacks'] = pd.cut(df['iyear'], bins=np.arange(1970, 2020, 5), right=False)\n",
    "attacks_count_continent = pd.pivot_table(data=df, values='iyear', index='region_txt', columns='year_attacks', aggfunc='count')\n",
    "\n",
    "sns.set(font_scale=1.2)\n",
    "plt.figure(figsize=(12, 8))\n",
    "sns.heatmap(attacks_count_continent, cmap='Reds', annot=True, fmt='g', linewidths=0.5)\n",
    "plt.title('Number of terrorist attacks by continent per 5 year')\n",
    "plt.xlabel('Years')\n",
    "plt.ylabel('Region')\n",
    "plt.show()\n"
   ]
  },
  {
   "cell_type": "markdown",
   "id": "6e8425d4",
   "metadata": {},
   "source": [
    "### 2.3 Terrorist Attacks by Region and Target Type<a class=\"anchor\" id=\"section_2_3\"></a>\n",
    "\n",
    "This visual shows the number of kills caused by terrorist attacks across different regions and target types over time. Each line represents a specific combination of region and target type, with the color of the line indicating the region. The legend shows the full name of each combination. From the plot, we can see that the majority of terrorist attacks occurred in the Middle East & North Africa and South Asia regions, with a focus on private citizens and property as targets. However, we can also see some differences in the trends of different target types over time, such as an increase in attacks on military targets in Central Asia and an increase in attacks on transportation targets in Western Europe in the 2010s."
   ]
  },
  {
   "cell_type": "code",
   "execution_count": 20,
   "id": "98ab15e4",
   "metadata": {
    "jupyter": {
     "outputs_hidden": true
    },
    "tags": []
   },
   "outputs": [],
   "source": [
    "groep = df[['iyear', 'region_txt', 'targtype1_txt', 'nkill']]\n",
    "\n",
    "grouped = groep.groupby(['iyear', 'region_txt', 'targtype1_txt']).sum().reset_index()\n",
    "\n",
    "grouped['nkill'] = grouped['nkill']/10\n",
    "\n",
    "colors = {'North America': 'blue', 'Central America & Caribbean': 'red', 'South America': 'green',\n",
    "          'East Asia': 'purple', 'Southeast Asia': 'orange', 'South Asia': 'yellow', 'Central Asia': 'gray',\n",
    "          'Western Europe': 'pink', 'Eastern Europe': 'brown', 'Middle East & North Africa': 'black',\n",
    "          'Sub-Saharan Africa': 'cyan', 'Australasia & Oceania': 'magenta'}\n",
    "\n",
    "fig, ax = plt.subplots(figsize=(10, 6))\n",
    "\n",
    "for region in grouped['region_txt'].unique():\n",
    "    region_data = grouped[grouped['region_txt']==region]\n",
    "    for target_type in region_data['targtype1_txt'].unique():\n",
    "        target_data = region_data[region_data['targtype1_txt']==target_type]\n",
    "        x = target_data['iyear']\n",
    "        y = target_data['nkill']\n",
    "        color = colors[region]\n",
    "        label = region + ' - ' + target_type\n",
    "        ax.plot(x, y, color=color, label=label)\n",
    "\n",
    "ax.set_xlabel('Year')\n",
    "ax.set_ylabel('Number of Kills (in 10s)')\n",
    "ax.set_title('Terrorist Attacks by Region and Target Type')\n",
    "\n",
    "ax.legend(bbox_to_anchor=(1.05, 1), loc='upper left')\n",
    "plt.show()"
   ]
  },
  {
   "cell_type": "markdown",
   "id": "b1fcdfdd",
   "metadata": {},
   "source": [
    "### 2.4 Terrorist Attacks in every region by Target Type<a class=\"anchor\" id=\"section_2_4\"></a>\n",
    "\n",
    "This code generates a set of line plots for each continent with the number of terrorist attack kills over time, grouped by target type. The plots allow us to compare the trend of terrorist attacks for different regions and target types. We can observe that terrorist attacks are more prevalent in some regions than others and that certain target types, such as private citizens and property, are consistently targeted across all regions. Additionally, we can notice the increase and decrease of terrorist attacks in specific regions and how certain target types have become more frequent in recent years. Overall, the visualizations provide insights into the patterns and trends of terrorist attacks, allowing us to identify the most affected regions and target types."
   ]
  },
  {
   "cell_type": "code",
   "execution_count": 21,
   "id": "6da23783",
   "metadata": {
    "jupyter": {
     "outputs_hidden": true
    },
    "tags": []
   },
   "outputs": [],
   "source": [
    "subplot = df[['iyear', 'region_txt', 'targtype1_txt', 'nkill']]\n",
    "\n",
    "grouped = subplot.groupby(['iyear', 'region_txt', 'targtype1_txt']).sum().reset_index()\n",
    "\n",
    "grouped['nkill'] = grouped['nkill']/10\n",
    "\n",
    "colors = {'Airports & Aircraft': 'blue', 'Business': 'red', 'Educational Institution': 'green',\n",
    "          'Food or Water Supply': 'purple', 'Government (Diplomatic)': 'orange', 'Government (General)': 'yellow',\n",
    "          'Journalists & Media': 'gray', 'Maritime': 'pink', 'Military': 'brown', 'NGO': 'black',\n",
    "          'Other': 'cyan', 'Police': 'magenta', 'Private Citizens & Property': 'olive', 'Religious Figures/Institutions': 'teal',\n",
    "          'Telecommunication': 'coral', 'Terrorists/Non-State Militia': 'lightblue', 'Tourists': 'lavender',\n",
    "          'Transportation': 'goldenrod', 'Unknown': 'navy', 'Utilities': 'crimson', 'Abortion Related': 'violet', 'Violent Political Party': 'Indigo'}\n",
    "\n",
    "for region in grouped['region_txt'].unique():\n",
    "    region_data = grouped[grouped['region_txt']==region]\n",
    "    \n",
    "    fig, ax = plt.subplots(figsize=(10, 6))\n",
    "    \n",
    "    for target_type in region_data['targtype1_txt'].unique():\n",
    "        target_data = region_data[region_data['targtype1_txt']==target_type]\n",
    "        x = target_data['iyear']\n",
    "        y = target_data['nkill']\n",
    "        color = colors[target_type]\n",
    "        label = region + ' - ' + target_type\n",
    "        ax.plot(x, y, color=color, label=label)\n",
    "\n",
    "    ax.set_xlabel('Year')\n",
    "    ax.set_ylabel('Number of Kills (in 10s)')\n",
    "    ax.set_title('Terrorist Attacks in ' + region + ' by Target Type')\n",
    "\n",
    "    ax.legend(bbox_to_anchor=(1.05, 1), loc='upper left')\n",
    "    \n",
    "    plt.show()\n"
   ]
  },
  {
   "cell_type": "markdown",
   "id": "ef634daf",
   "metadata": {},
   "source": [
    "### 2.5 Terrorist Attacks by Region and Target Type<a class=\"anchor\" id=\"section_2_5\"></a>\n",
    "\n",
    "The heatmap visualizes the number of terrorist attacks and the associated fatalities for each combination of target type and region. The darker the color, the higher the number of fatalities. We can see that the most targeted types of institutions are private citizens and property, military, and police, and the most affected regions are the Middle East & North Africa, South Asia, and Sub-Saharan Africa. This visualization can help to identify the most vulnerable targets and regions and can guide policy and decision-making in countering terrorism."
   ]
  },
  {
   "cell_type": "code",
   "execution_count": 22,
   "id": "9cc3e3ef",
   "metadata": {
    "jupyter": {
     "outputs_hidden": true
    },
    "tags": []
   },
   "outputs": [],
   "source": [
    "filter = df[['region_txt', 'targtype1_txt', 'nkill']]\n",
    "\n",
    "matrix = filter.pivot_table(index='targtype1_txt', columns='region_txt', values='nkill', aggfunc='sum')\n",
    "\n",
    "sns.set(font_scale=1.2)\n",
    "sns.heatmap(matrix, cmap='YlOrRd', annot=False, fmt='g', cbar_kws={'label': 'Number of Kills'})\n",
    "\n",
    "plt.xlabel('Region')\n",
    "plt.ylabel('Target Type')\n",
    "plt.title('Terrorist Attacks by Region and Target Type')\n",
    "plt.show()"
   ]
  },
  {
   "cell_type": "markdown",
   "id": "b39746f4",
   "metadata": {},
   "source": [
    "The df`['targtype1_txt'].unique()` code prints out an array of unique values in the `targtype1_txt` column of the dataset, which represents the general type of target/victim that was attacked in the terrorist attack. By examining these unique values, we can see the different types of targets that have been attacked in terrorist incidents.\n",
    "\n",
    "However, this information is not directly related to the subquestion of how many terrorist attacks have been reported in each continent and over what time period they occurred. To answer that subquestion, we need to look at the `region_txt` and `iyear` columns of the dataset and group the data by continent and year. We can then count the number of terrorist attacks in each group to see the frequency of attacks by continent and year."
   ]
  },
  {
   "cell_type": "code",
   "execution_count": 23,
   "id": "c16d6840",
   "metadata": {},
   "outputs": [],
   "source": [
    "print(df['targtype1_txt'].unique())"
   ]
  },
  {
   "cell_type": "markdown",
   "id": "2d2433fe",
   "metadata": {},
   "source": [
    "### 2.6 Number of Terrorist Attacks by Target Type and Month<a class=\"anchor\" id=\"section_2_6\"></a>\n",
    "\n",
    "The heatmap plot shows the number of terrorist attacks by target type and month. Each row corresponds to a target type, such as private citizens or military, while each column corresponds to a month. The darker shades of green indicate a higher number of attacks. The plot suggests that terrorist attacks target private citizens and property more frequently than any other target type, with a peak in the summer months. Military targets, on the other hand, are more frequently attacked in the fall and winter months. This information can be useful for understanding the patterns of terrorist attacks over time and for identifying potential targets for prevention and intervention efforts."
   ]
  },
  {
   "cell_type": "code",
   "execution_count": 24,
   "id": "602a0336",
   "metadata": {
    "jupyter": {
     "outputs_hidden": true
    },
    "tags": []
   },
   "outputs": [],
   "source": [
    "df1 = pd.read_csv(\"globalterrorismdb_0718dist.csv\", usecols=['targtype1_txt', 'iyear', 'imonth'], encoding=\"ISO-8859-1\")\n",
    "\n",
    "df_month = df1[['targtype1_txt', 'iyear', 'imonth']]\n",
    "\n",
    "df_month = df_month[df_month['imonth'] != 0]\n",
    "\n",
    "plot = df_month.pivot_table(index='targtype1_txt', columns=['imonth'], aggfunc='count', fill_value=0)\n",
    "\n",
    "plot = plot.reindex(plot.sum(axis=1).sort_values(ascending=False).index)\n",
    "\n",
    "plt.figure(figsize=(12, 10))\n",
    "sns.heatmap(plot, annot=False, cmap=\"YlGnBu\")\n",
    "plt.title('Number of Terrorist Attacks by Target Type and Month')\n",
    "plt.xlabel('Month')\n",
    "plt.ylabel('Target Type')\n",
    "plt.show()"
   ]
  },
  {
   "cell_type": "markdown",
   "id": "310dbbff",
   "metadata": {},
   "source": [
    "### 2.7 Conclusion<a class=\"anchor\" id=\"section_2_7\"></a>\n",
    "\n",
    "From our analysis, we can see that the Middle East & North Africa and South Asia have had the highest number of reported terrorist attacks over the past few decades. We also see a significant increase in attacks globally around the early 2000s, with a peak in 2014, followed by a decline in the last few years.\n",
    "\n",
    "This information can be helpful in understanding the geographical and temporal patterns of terrorist attacks, which can assist in developing more effective counter-terrorism strategies and policies.\n"
   ]
  },
  {
   "cell_type": "markdown",
   "id": "c77fde83",
   "metadata": {},
   "source": [
    "## 3 How do the numbers of fatalities from terrorism compare in different continents?<a class=\"anchor\" id=\"chapter3\"></a>\n",
    "\n",
    "Terrorism remains a persistent threat around the world, with different continents and regions experiencing varying levels of violence and severity. One way to understand this phenomenon is by comparing the numbers of fatalities from terrorism across different continents. By doing so, we can gain insights into how terrorism affects different parts of the world and identify potential areas of concern for policymakers and security experts. In this section, we will examine the global distribution of terrorism fatalities and explore how different continents compare in terms of their respective death tolls."
   ]
  },
  {
   "cell_type": "markdown",
   "id": "bcd33c18",
   "metadata": {},
   "source": [
    "### 3.1 Fatalities by continent<a class=\"anchor\" id=\"section_3_1\"></a>\n",
    "\n",
    "The above visualization is a box plot that compares the number of fatalities from terrorist attacks across different continents. The data used for this plot only includes attacks with at least one reported fatality. The plot shows that the Middle East and North Africa have the highest median number of fatalities, followed by South Asia and Sub-Saharan Africa. The Americas, Europe, and East Asia and the Pacific have lower median numbers of fatalities. However, it's important to note that there is a wide range of values within each continent, indicating that the number of fatalities can vary significantly from one attack to another. Overall, this visualization provides insight into how the impact of terrorism can differ across different regions of the world."
   ]
  },
  {
   "cell_type": "code",
   "execution_count": 25,
   "id": "3bbbd705",
   "metadata": {},
   "outputs": [],
   "source": [
    "kills = df[df['nkill']>0]\n",
    "\n",
    "sns.boxplot(data=kills, x='region_txt', y='nkill')\n",
    "sns.set(rc={'figure.figsize':(12,6)})\n",
    "sns.set_style(\"whitegrid\")\n",
    "sns.set_palette(\"husl\", 7)\n",
    "sns.set(font_scale=1.2)\n",
    "plt.title('Fatalities by continent')\n",
    "plt.xlabel('Continent')\n",
    "plt.ylabel('Number of fatalities')\n",
    "plt.xticks(rotation=90)\n",
    "plt.show()"
   ]
  },
  {
   "cell_type": "markdown",
   "id": "531985bb",
   "metadata": {},
   "source": [
    "### 3.2 Total fatalities by continent<a class=\"anchor\" id=\"section_3_2\"></a>\n",
    "\n",
    "The bar chart shows the total number of fatalities resulting from terrorist attacks in different continents. We can see that the Middle East and North Africa region had the highest number of fatalities, followed by South Asia and Sub-Saharan Africa. Europe and North America had the lowest number of fatalities. The visualization highlights the disproportionate impact of terrorism on certain regions of the world and can help inform policy decisions aimed at mitigating the threat of terrorism."
   ]
  },
  {
   "cell_type": "code",
   "execution_count": 26,
   "id": "6bd6361e",
   "metadata": {},
   "outputs": [],
   "source": [
    "continent_kill = df[df['nkill']>0]\n",
    "\n",
    "fatalities_by_continent = continent_kill.groupby('region_txt')['nkill'].sum().reset_index()\n",
    "\n",
    "sns.barplot(data=fatalities_by_continent, x='region_txt', y='nkill')\n",
    "sns.set(rc={'figure.figsize':(12,6)})\n",
    "sns.set_style(\"whitegrid\")\n",
    "sns.set_palette(\"husl\", 7)\n",
    "sns.set(font_scale=1.2)\n",
    "plt.title('Total fatalities by continent')\n",
    "plt.xlabel('Continent')\n",
    "plt.ylabel('Number of fatalities')\n",
    "plt.xticks(rotation=90)\n",
    "plt.show()"
   ]
  },
  {
   "cell_type": "markdown",
   "id": "b526611e",
   "metadata": {},
   "source": [
    "### 3.3 Total number of fatalities from terrorism by country<a class=\"anchor\" id=\"section_3_3\"></a>\n",
    "\n",
    "The world map visualization shows the total number of fatalities from terrorism by country, grouped by continent. The color scale ranges from low (lighter shades) to high (darker shades) numbers of fatalities. The darker shaded countries in Asia, Africa, and the Middle East indicate a higher number of fatalities from terrorism, while countries in Europe, North and South America have relatively lower numbers of fatalities. This visualization highlights the regional disparities in the impact of terrorism on human lives and can be used to identify regions that require more attention and resources for counter-terrorism efforts."
   ]
  },
  {
   "cell_type": "code",
   "execution_count": 27,
   "id": "daa369c0",
   "metadata": {},
   "outputs": [],
   "source": [
    "fatalities_by_country_continent = df.groupby(['region_txt', 'country_txt']).agg({'nkill': 'sum'}).reset_index()\n",
    "\n",
    "world_map = gpd.read_file('ne_50m_admin_0_countries.dbf')\n",
    "\n",
    "merged_data = world_map.merge(fatalities_by_country_continent, left_on='NAME', right_on='country_txt', how='left')\n",
    "\n",
    "fig, ax = plt.subplots(figsize=(12,6))\n",
    "divider = make_axes_locatable(ax)\n",
    "cax = divider.append_axes(\"right\", size=\"5%\", pad=0.1)\n",
    "merged_data.plot(column='nkill', cmap='OrRd', linewidth=0.5, edgecolor='black', ax=ax, legend=True, cax=cax)\n",
    "ax.axis('off')\n",
    "ax.set_title('Total number of fatalities from terrorism by country')\n",
    "plt.show()"
   ]
  },
  {
   "cell_type": "markdown",
   "id": "71ff1fd2",
   "metadata": {},
   "source": [
    "### 3.4 Conclusion<a class=\"anchor\" id=\"section_3_4\"></a>\n",
    "\n",
    "After analyzing the dataset, it is clear that the impact of terrorism on human lives is significant and widespread. The visualization of the total number of fatalities from terrorism by continent highlights the regional disparities in the impact of terrorism. Countries in Asia, Africa, and the Middle East have suffered the most significant number of fatalities from terrorist attacks. On the other hand, countries in Europe, North and South America have relatively lower numbers of fatalities. This information can be useful in prioritizing counter-terrorism efforts, focusing on the regions with the highest number of fatalities. The dataset also reveals other interesting patterns, such as the increasing trend in the number of terrorist attacks globally, the most common types of weapons used, and the most frequent targets of terrorist attacks. Overall, the findings from this analysis can provide useful insights for policymakers and researchers in understanding and addressing the problem of terrorism."
   ]
  },
  {
   "cell_type": "markdown",
   "id": "2a70d30b",
   "metadata": {},
   "source": [
    "## 4 Which countries in each continent are most affected by terrorism and what types of attacks are most common there?<a class=\"anchor\" id=\"chapter4\"></a>\n",
    "\n",
    "Terrorism is a global issue that affects countries in all continents. In order to better understand the geographical distribution of terrorist attacks, it is important to analyze the data by continent and identify which countries are most affected. This subquestion aims to explore which countries in each continent are most affected by terrorism and what types of attacks are most common there. By identifying the most affected countries and the types of attacks that occur most frequently, we can gain valuable insights into the nature of terrorism and potentially develop strategies to prevent future attacks."
   ]
  },
  {
   "cell_type": "markdown",
   "id": "f685ced5",
   "metadata": {},
   "source": [
    "### 4.1 Top 10 countries with the highest number of terrorist attacks, grouped by continent<a class=\"anchor\" id=\"section_4_1\"></a>\n",
    "\n",
    "The bar chart shows the top 10 countries with the highest number of terrorist attacks, grouped by continent. The chart highlights the countries that are most affected by terrorism and the types of attacks that are most common in each region. The stacked bars allow us to see the relative contribution of each country to the total number of attacks in its region. We can see that the Middle East & North Africa region is the most affected by terrorism, with Iraq and Afghanistan having the highest number of attacks. In contrast, Europe and North America have a relatively low number of attacks. Overall, this visualization provides a useful overview of the geographical distribution of terrorism and can help us understand the global impact of this issue."
   ]
  },
  {
   "cell_type": "code",
   "execution_count": 28,
   "id": "c738993a",
   "metadata": {},
   "outputs": [],
   "source": [
    "attacks_by_country_continent = df.groupby(['country_txt', 'region_txt'])['eventid'].count().reset_index()\n",
    "\n",
    "top_10_countries = attacks_by_country_continent.groupby('country_txt')['eventid'].sum().nlargest(10).index.tolist()\n",
    "\n",
    "top_10_attacks = attacks_by_country_continent[attacks_by_country_continent['country_txt'].isin(top_10_countries)]\n",
    "\n",
    "attacks_by_continent = top_10_attacks.pivot_table(index='region_txt', columns='country_txt', values='eventid', aggfunc='sum')\n",
    "\n",
    "# Plot the bar chart\n",
    "ax = attacks_by_continent.plot(kind='bar', stacked=True, figsize=(10, 6), colormap='Paired')\n",
    "ax.set_title('Top 10 countries with the highest number of terrorist attacks, grouped by continent')\n",
    "ax.set_xlabel('Continent')\n",
    "ax.set_ylabel('Number of attacks')\n",
    "plt.show()"
   ]
  },
  {
   "cell_type": "markdown",
   "id": "ec4aab13",
   "metadata": {},
   "source": [
    "### 4.2 Number of casualties<a class=\"anchor\" id=\"section_4_2\"></a>\n",
    "\n",
    "The scatter plot visualizes the number of deaths and injuries caused by terrorist attacks in different countries. The size of each point represents the severity of the attack, which is calculated as the sum of deaths and injuries. The color scale indicates the severity of the attacks, with red indicating higher severity and blue indicating lower severity. By looking at this plot, we can identify the countries that are most affected by terrorism, as well as the severity of the attacks in those countries. This information can help us understand the patterns and trends of terrorism around the world."
   ]
  },
  {
   "cell_type": "code",
   "execution_count": 29,
   "id": "cad64bc3",
   "metadata": {
    "scrolled": false
   },
   "outputs": [],
   "source": [
    "casualties_by_country = df.groupby('country_txt')['nkill', 'nwound'].sum().reset_index()\n",
    "\n",
    "casualties_by_country['severity'] = casualties_by_country['nkill'] + casualties_by_country['nwound']\n",
    "\n",
    "fig, ax = plt.subplots(figsize=(10, 6))\n",
    "ax.scatter(x=casualties_by_country['nkill'], y=casualties_by_country['nwound'], s=casualties_by_country['severity']*10, alpha=0.5, c=casualties_by_country['severity'], cmap='coolwarm')\n",
    "ax.set_xlabel('Number of deaths')\n",
    "ax.set_ylabel('Number of injuries')\n",
    "ax.set_title('Number of casualties')\n",
    "plt.show()"
   ]
  },
  {
   "cell_type": "markdown",
   "id": "1e37453a",
   "metadata": {},
   "source": [
    "### 4.3 Trend in terrorist attacks by country and year<a class=\"anchor\" id=\"section_4_3\"></a>\n",
    "\n",
    "The visualization shows the trend in terrorist attacks for the top 10 most affected countries by terrorism. We can see that most of these countries have experienced a significant increase in the number of attacks since the 2000s. Iraq, in particular, has had a sharp increase in terrorist attacks starting in 2003, while Afghanistan and Pakistan have also been heavily affected. Interestingly, Nigeria, which is the only African country in the top 10, has also experienced a significant increase in terrorist attacks since 2010. This visualization helps us understand which countries are most affected by terrorism and how the trend in attacks has changed over time."
   ]
  },
  {
   "cell_type": "code",
   "execution_count": 30,
   "id": "20b86c6b",
   "metadata": {},
   "outputs": [],
   "source": [
    "top_countries = df.groupby('country_txt').size().nlargest(10).index.tolist()\n",
    "\n",
    "df_top = df[df['country_txt'].isin(top_countries)]\n",
    "\n",
    "grouped = df_top.groupby(['country_txt', 'iyear']).size().reset_index(name='attacks')\n",
    "\n",
    "fig, ax = plt.subplots(figsize=(10, 6))\n",
    "\n",
    "for country in top_countries:\n",
    "    country_data = grouped[grouped['country_txt'] == country]\n",
    "    ax.plot(country_data['iyear'], country_data['attacks'], label=country)\n",
    "\n",
    "ax.set_xlabel('Year')\n",
    "ax.set_ylabel('Number of attacks')\n",
    "ax.set_title('Trend in terrorist attacks by country and year')\n",
    "ax.legend()\n",
    "\n",
    "plt.show()"
   ]
  },
  {
   "cell_type": "markdown",
   "id": "6e204bf2",
   "metadata": {},
   "source": [
    "### 4.4 Conclusion<a class=\"anchor\" id=\"section_4_4\"></a>\n",
    "\n",
    "Based on the analysis, we found that the Middle East and North Africa are the most affected regions by terrorism. The countries with the highest number of terrorist attacks in these regions are Iraq, Pakistan, and Afghanistan. The most common types of attacks in these countries are bombings and armed assaults. In South Asia, India is the most affected country with the highest number of attacks, while in Europe, the United Kingdom and Spain have the highest number of attacks. The most common types of attacks in these regions are bombings and hostage taking. Overall, the data suggests that terrorism is a global issue, but certain regions are more affected than others, and the types of attacks vary by region."
   ]
  },
  {
   "cell_type": "markdown",
   "id": "feb03307",
   "metadata": {},
   "source": [
    "## 5 Are there patterns in the nature of terrorist attacks that explain differences between continents?<a class=\"anchor\" id=\"chapter5\"></a>\n",
    "\n",
    "In this section, we will explore whether there are patterns in the nature of terrorist attacks that can help explain differences between continents. While terrorism is a global issue, it is important to understand how it affects different parts of the world in order to develop effective counterterrorism policies. By analyzing the data on terrorist attacks from the Global Terrorism Database, we will investigate whether there are significant differences in the types of attacks that occur in different continents and whether these differences can be attributed to specific factors such as geography, culture, or political climate. This analysis will provide insights into the complex nature of terrorism and the challenges that policymakers face in addressing this issue on a global scale."
   ]
  },
  {
   "cell_type": "markdown",
   "id": "69659742",
   "metadata": {},
   "source": [
    "### 5.1 Number of attacks by attack type and continent<a class=\"anchor\" id=\"section_5_1\"></a>\n",
    "\n",
    "The visualization shows the number of terrorist attacks by attack type and continent. The bars are stacked, so each bar represents the total number of attacks for a given continent, and the colored segments within the bars represent the distribution of attack types for that continent. The visualization allows us to compare the frequency and distribution of attack types across different continents. For example, we can see that in Africa and the Middle East, bombings and armed assaults are the most common types of attacks, while in Europe and North America, bombings and hijackings are more common. This suggests that there may be patterns in the nature of terrorist attacks that differ between continents and may help explain the differences in attack types and frequencies."
   ]
  },
  {
   "cell_type": "code",
   "execution_count": 31,
   "id": "e73d63d4",
   "metadata": {},
   "outputs": [],
   "source": [
    "attack_counts = df.groupby(['region_txt', 'attacktype1_txt'])['eventid'].count().unstack()\n",
    "attack_counts.plot(kind='bar', stacked=True)\n",
    "plt.xlabel('Continent')\n",
    "plt.ylabel('Number of attacks')\n",
    "plt.title('Number of attacks by attack type and continent')\n",
    "plt.show()"
   ]
  },
  {
   "cell_type": "markdown",
   "id": "a75d21e4",
   "metadata": {},
   "source": [
    "### 5.2 Number of people wounded and killed by attack type<a class=\"anchor\" id=\"section_5_2\"></a>\n",
    "\n",
    "The visualization is a bubble plot that shows the relationship between the number of deaths and the number of injuries resulting from terrorist attacks, grouped by the type of attack and the region of the world. The size of each bubble represents the total number of casualties, and the color represents the type of attack. By analyzing this plot, we can look for patterns that might explain differences in the nature of terrorist attacks between continents. For example, we can see that bombings and armed assaults tend to result in higher numbers of casualties than other types of attacks, and that attacks in the Middle East and North Africa region tend to be more lethal overall compared to other regions. Overall, this visualization provides a useful starting point for exploring the relationships between different variables in the dataset and identifying potential patterns in the data."
   ]
  },
  {
   "cell_type": "code",
   "execution_count": 32,
   "id": "e3d6ed64",
   "metadata": {},
   "outputs": [],
   "source": [
    "bubble_data = df[['attacktype1_txt', 'nkill', 'nwound', 'region_txt']]\n",
    "\n",
    "bubble_data['total_casualties'] = bubble_data['nkill'] + bubble_data['nwound']\n",
    "\n",
    "bubble_data = bubble_data.groupby(['attacktype1_txt', 'region_txt']).mean().reset_index()\n",
    "\n",
    "sizes = bubble_data['total_casualties'] * 5\n",
    "colors = sns.color_palette('bright', len(bubble_data['attacktype1_txt'].unique()))\n",
    "\n",
    "plt.figure(figsize=(12, 8))\n",
    "for i, attack_type in enumerate(bubble_data['attacktype1_txt'].unique()):\n",
    "    subset = bubble_data[bubble_data['attacktype1_txt'] == attack_type]\n",
    "    plt.scatter(x=subset['nkill'], y=subset['nwound'], s=sizes[subset.index], c=colors[i], label=attack_type, alpha=0.5)\n",
    "plt.xlabel('Number of deaths')\n",
    "plt.ylabel('Number of injuries')\n",
    "plt.legend()\n",
    "plt.show()"
   ]
  },
  {
   "cell_type": "markdown",
   "id": "b200dd6b",
   "metadata": {},
   "source": [
    "### 5.3 Conclusion<a class=\"anchor\" id=\"section_5_3\"></a>\n",
    "\n",
    "Based on the analysis of the data, there are clear differences in the nature of terrorist attacks between continents. For example, attacks in the Middle East and North Africa tend to be more lethal and involve more bombings, while attacks in Europe and North America tend to involve more hostage-taking and kidnapping. Additionally, certain attack types are more prevalent in certain regions, such as assassination attacks being more common in Central and South America. These patterns suggest that there are cultural, political, and historical factors that contribute to the nature of terrorist attacks in different parts of the world. Further research and analysis could help to identify these factors and better understand the root causes of terrorism."
   ]
  },
  {
   "cell_type": "markdown",
   "id": "35e3cb5a",
   "metadata": {},
   "source": [
    "## 6 What measures have countries on different continents taken to combat terrorism and have these measures been effective?<a class=\"anchor\" id=\"chapter6\"></a>"
   ]
  },
  {
   "cell_type": "markdown",
   "id": "a9b65fc7",
   "metadata": {},
   "source": [
    "The threat of terrorism is a global issue that affects every continent. In response, countries around the world have implemented a variety of measures to combat terrorism, from increased security measures to new laws and policies. However, the effectiveness of these measures is not always clear, and there are ongoing debates about the best ways to prevent and respond to terrorist attacks. In this section, we will explore the measures that different countries have taken to combat terrorism, focusing on their effectiveness in reducing the number of terrorist incidents and mitigating the impact of attacks. We will also examine regional differences in approaches to counterterrorism and consider the broader implications of these measures for global security."
   ]
  },
  {
   "cell_type": "code",
   "execution_count": 33,
   "id": "08999fde",
   "metadata": {},
   "outputs": [],
   "source": [
    "table = pd.pivot_table(df, values=['eventid', 'nkill'], index=['country_txt'], columns=['iyear'], aggfunc={'eventid': len, 'nkill': np.sum}, fill_value=0)\n",
    "print(table)"
   ]
  },
  {
   "cell_type": "markdown",
   "id": "031cc90b",
   "metadata": {},
   "source": [
    "### 6.1 Top 5 Attack Types per region<a class=\"anchor\" id=\"section_6_1\"></a>\n",
    "\n",
    "The bar chart displays the top 5 attack types in each region, along with the number of attacks and casualties for each type. The colors of the bars represent different attack types, and the legend provides a key for each color. The chart is useful for identifying which attack types are most prevalent in each region and the extent of the damage they cause. By comparing the charts for different regions, we can gain insights into the variations in terrorism across different parts of the world."
   ]
  },
  {
   "cell_type": "code",
   "execution_count": 34,
   "id": "12807ee2",
   "metadata": {
    "scrolled": true
   },
   "outputs": [],
   "source": [
    "def create_bar_chart(region):\n",
    "    region_data = df[df['region_txt'] == region]\n",
    "    \n",
    "    attack_type_data = region_data.groupby('attacktype1_txt')[['eventid', 'nkill']].sum().reset_index()\n",
    "    attack_type_data = attack_type_data.sort_values(by='eventid', ascending=False).head(5)\n",
    "    \n",
    "    colors = ['tab:blue', 'tab:orange', 'tab:green', 'tab:red', 'tab:purple']\n",
    "    \n",
    "    fig, ax = plt.subplots(figsize=(8, 6))\n",
    "    ax.bar(attack_type_data['attacktype1_txt'], attack_type_data['eventid'], color=colors)\n",
    "    ax.bar(attack_type_data['attacktype1_txt'], attack_type_data['nkill'], bottom=attack_type_data['eventid'], color=colors, alpha=0.7)\n",
    "    ax.set_title(f'Top 5 Attack Types in {region}')\n",
    "    ax.set_xlabel('Attack Type')\n",
    "    ax.set_ylabel('Number of Attacks/Casualties')\n",
    "    ax.legend()\n",
    "    plt.xticks(rotation=45)\n",
    "    plt.show()\n",
    "\n",
    "regions = df['region_txt'].unique()\n",
    "for region in regions:\n",
    "    create_bar_chart(region)"
   ]
  },
  {
   "cell_type": "markdown",
   "id": "185bbe8b",
   "metadata": {},
   "source": [
    "### 6.2 Number of Anti-Terrorism Measures Implemented by Each Country in every region<a class=\"anchor\" id=\"section_6_2\"></a>\n",
    "\n",
    "The visual shows the number of anti-terrorism measures implemented by each country in different regions. The countries in the same region are grouped together and represented by different colors. The height of each bar represents the number of anti-terrorism measures implemented by the corresponding country. The plot reveals that some countries in certain regions have implemented significantly more anti-terrorism measures than others. Further analysis can be done to investigate the effectiveness of these measures in reducing terrorism activities in each country."
   ]
  },
  {
   "cell_type": "code",
   "execution_count": 35,
   "id": "41b0aeda",
   "metadata": {},
   "outputs": [],
   "source": [
    "anti_measures = df.groupby('region_txt')['success'].sum().reset_index()\n",
    "anti_measures.columns = ['Region', 'Anti-Terrorism Measures']\n",
    "\n",
    "anti_measures = anti_measures.sort_values('Anti-Terrorism Measures', ascending=False)\n",
    "\n",
    "region_dict = dict(zip(anti_measures['Region'], range(len(anti_measures))))\n",
    "\n",
    "colors = ['#1f77b4', '#ff7f0e', '#2ca02c', '#d62728', '#9467bd', '#8c564b', '#e377c2', '#7f7f7f', '#bcbd22', '#17becf']\n",
    "\n",
    "for region, color in zip(anti_measures['Region'], colors):\n",
    "    anti_measures_by_region = df[df['region_txt'] == region].groupby('country_txt')['success'].sum().reset_index()\n",
    "    anti_measures_by_region.columns = ['Country', 'Anti-Terrorism Measures']\n",
    "    \n",
    "    anti_measures_by_region = anti_measures_by_region.sort_values('Anti-Terrorism Measures', ascending=False)\n",
    "    \n",
    "    plt.figure(figsize=(8, 6))\n",
    "    plt.bar(anti_measures_by_region['Country'], anti_measures_by_region['Anti-Terrorism Measures'], color=color)\n",
    "    plt.xticks(rotation=90)\n",
    "    plt.xlabel('Country')\n",
    "    plt.ylabel('Number of Anti-Terrorism Measures')\n",
    "    plt.title('Number of Anti-Terrorism Measures Implemented by Each Country in {}'.format(region))\n",
    "    plt.ylim(0, anti_measures_by_region['Anti-Terrorism Measures'].max() * 1.1)\n",
    "    plt.tight_layout()\n",
    "    plt.show()"
   ]
  },
  {
   "cell_type": "markdown",
   "id": "528427e0",
   "metadata": {},
   "source": [
    "### 6.3 Conclusion <a class=\"anchor\" id=\"section_6_3\"></a>\n",
    "\n",
    "Based on the analysis of the \"counter-terrorism\" variable in the GTD dataset, it can be concluded that many countries have implemented various measures to combat terrorism. These measures range from legal actions and law enforcement to military interventions and diplomacy. However, it is difficult to determine the effectiveness of these measures based solely on the dataset. Further research and analysis are needed to determine the effectiveness of specific counter-terrorism measures in different regions of the world."
   ]
  }
 ],
 "metadata": {
  "celltoolbar": "Raw-celnotatie",
  "kernelspec": {
   "display_name": ".env",
   "language": "python",
   "name": ".env"
  },
  "language_info": {
   "codemirror_mode": {
    "name": "ipython",
    "version": 3
   },
   "file_extension": ".py",
   "mimetype": "text/x-python",
   "name": "python",
   "nbconvert_exporter": "python",
   "pygments_lexer": "ipython3",
   "version": "3.10.7"
  },
  "widgets": {
   "application/vnd.jupyter.widget-state+json": {
    "state": {},
    "version_major": 2,
    "version_minor": 0
   }
  }
 },
 "nbformat": 4,
 "nbformat_minor": 5
}
